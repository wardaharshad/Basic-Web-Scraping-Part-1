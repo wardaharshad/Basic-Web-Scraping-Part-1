{
 "cells": [
  {
   "cell_type": "code",
   "execution_count": 1,
   "id": "guilty-edgar",
   "metadata": {},
   "outputs": [
    {
     "name": "stdout",
     "output_type": "stream",
     "text": [
      "Collecting BeautifulSoup4\n",
      "  Downloading beautifulsoup4-4.9.3-py3-none-any.whl (115 kB)\n",
      "Collecting soupsieve>1.2\n",
      "  Downloading soupsieve-2.2.1-py3-none-any.whl (33 kB)\n",
      "Installing collected packages: soupsieve, BeautifulSoup4\n",
      "Successfully installed BeautifulSoup4-4.9.3 soupsieve-2.2.1\n",
      "Note: you may need to restart the kernel to use updated packages.\n"
     ]
    }
   ],
   "source": [
    "pip install BeautifulSoup4"
   ]
  },
  {
   "cell_type": "code",
   "execution_count": 2,
   "id": "natural-computer",
   "metadata": {},
   "outputs": [
    {
     "name": "stdout",
     "output_type": "stream",
     "text": [
      "Note: you may need to restart the kernel to use updated packages.\n"
     ]
    },
    {
     "name": "stderr",
     "output_type": "stream",
     "text": [
      "ERROR: Could not find a version that satisfies the requirement request\n",
      "ERROR: No matching distribution found for request\n"
     ]
    }
   ],
   "source": [
    "pip install request"
   ]
  },
  {
   "cell_type": "code",
   "execution_count": 3,
   "id": "banner-legislation",
   "metadata": {},
   "outputs": [
    {
     "data": {
      "text/plain": [
       "'\\n\\t\\t\\t\\t\\t\\t\\t\\t\\t\\t\\tApple MacBook Air 13.3\", Core i5 1.8GHz, 8GB, 128GB\\n\\t\\t\\t\\t\\t\\t\\t\\t\\t\\t\\tSSD, Intel HD 4000, RUS\\n\\t\\t\\t\\t\\t\\t\\t\\t\\t\\t'"
      ]
     },
     "execution_count": 3,
     "metadata": {},
     "output_type": "execute_result"
    }
   ],
   "source": [
    "import requests\n",
    "from bs4 import BeautifulSoup\n",
    "\n",
    "rq= requests.get(\"https://codedamn-classrooms.github.io/webscraper-python-codedamn-classroom-website/\")\n",
    "soup= BeautifulSoup(rq.content, 'html.parser')\n",
    "\n",
    "first_h1=soup.select('h1')[0].text\n",
    "first_p=soup.select('p')[8].text\n",
    "\n",
    "first_p"
   ]
  },
  {
   "cell_type": "code",
   "execution_count": 4,
   "id": "lovely-pepper",
   "metadata": {},
   "outputs": [
    {
     "data": {
      "text/plain": [
       "<head><meta charset=\"utf-8\"/><link href=\"https://fonts.gstatic.com\" rel=\"preconnect\"/><link href=\"https://cdnjs.cloudflare.com/ajax/libs/font-awesome/4.7.0/css/font-awesome.min.css\" rel=\"stylesheet\"/><link href=\"https://fonts.googleapis.com/css2?family=Raleway:wght@300;400;500;600;800&amp;display=swap\" rel=\"stylesheet\"/><link href=\"/favicon.ico\" rel=\"icon\"/><meta content=\"width=device-width,initial-scale=1\" name=\"viewport\"/><meta content=\"#000000\" name=\"theme-color\"/><meta content=\"Teach your kids latest technology with us before moving them to college\" name=\"description\"/><link href=\"/logo192.png\" rel=\"apple-touch-icon\"/><script crossorigin=\"anonymous\" integrity=\"sha384-DfXdz2htPH0lsSSs5nCTpuj/zy4C+OGpamoFVy38MVBnE+IbbVYUew+OrCXaRkfj\" src=\"https://code.jquery.com/jquery-3.5.1.slim.min.js\"></script><script crossorigin=\"anonymous\" integrity=\"sha384-ho+j7jyWK8fNQe+A12Hb8AhRq26LrZ/JpcUGGOn+Y7RsweNrtN/tE3MoK7ZeZDyx\" src=\"https://cdn.jsdelivr.net/npm/bootstrap@4.5.3/dist/js/bootstrap.bundle.min.js\"></script><link href=\"/manifest.json\" rel=\"manifest\"/><title>UTECH-EDU</title><link href=\"/static/css/2.3b7e1fba.chunk.css\" rel=\"stylesheet\"/><link href=\"/static/css/main.6805ffdd.chunk.css\" rel=\"stylesheet\"/></head>"
      ]
     },
     "execution_count": 4,
     "metadata": {},
     "output_type": "execute_result"
    }
   ],
   "source": [
    "import requests\n",
    "from bs4 import BeautifulSoup\n",
    "\n",
    "rq= requests.get(\"https://utech-edu.com\")\n",
    "soup= BeautifulSoup(rq.content, 'html.parser')\n",
    "pagetitle = soup.title.text\n",
    "pagehead= soup.head\n",
    "pagehead"
   ]
  },
  {
   "cell_type": "code",
   "execution_count": null,
   "id": "sexual-protest",
   "metadata": {},
   "outputs": [],
   "source": []
  }
 ],
 "metadata": {
  "kernelspec": {
   "display_name": "Python 3",
   "language": "python",
   "name": "python3"
  },
  "language_info": {
   "codemirror_mode": {
    "name": "ipython",
    "version": 3
   },
   "file_extension": ".py",
   "mimetype": "text/x-python",
   "name": "python",
   "nbconvert_exporter": "python",
   "pygments_lexer": "ipython3",
   "version": "3.8.7"
  }
 },
 "nbformat": 4,
 "nbformat_minor": 5
}
